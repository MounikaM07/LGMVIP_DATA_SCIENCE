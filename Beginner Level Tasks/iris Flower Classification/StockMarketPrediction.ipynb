{
  "nbformat": 4,
  "nbformat_minor": 0,
  "metadata": {
    "colab": {
      "provenance": []
    },
    "kernelspec": {
      "name": "python3",
      "display_name": "Python 3"
    },
    "language_info": {
      "name": "python"
    },
    "accelerator": "GPU",
    "gpuClass": "standard"
  },
  "cells": [
    {
      "cell_type": "markdown",
      "source": [
        "# **Stock Market Prediction And Forecasting Using Stacked LSTM**"
      ],
      "metadata": {
        "id": "MOM1RjBB75T3"
      }
    },
    {
      "cell_type": "code",
      "source": [
        "#Importing required Libraries\n",
        "import pandas as pd\n",
        "import numpy as np\n",
        "import matplotlib.pyplot as plt\n",
        "import seaborn as sb"
      ],
      "metadata": {
        "id": "1cEinU048Z9c"
      },
      "execution_count": 1,
      "outputs": []
    },
    {
      "cell_type": "code",
      "source": [
        "url = \"https://raw.githubusercontent.com/mwitiderrick/stockprice/master/NSE-TATAGLOBAL.csv\"\n",
        "stock = pd.read_csv(url)"
      ],
      "metadata": {
        "id": "f0QxO5b38pi6"
      },
      "execution_count": 4,
      "outputs": []
    },
    {
      "cell_type": "code",
      "source": [
        "stock"
      ],
      "metadata": {
        "colab": {
          "base_uri": "https://localhost:8080/",
          "height": 423
        },
        "id": "iWvf4TfP8plN",
        "outputId": "79deec36-5bc6-4d7f-9205-01fb5d171c59"
      },
      "execution_count": 5,
      "outputs": [
        {
          "output_type": "execute_result",
          "data": {
            "text/plain": [
              "            Date    Open    High     Low    Last   Close  \\\n",
              "0     2018-09-28  234.05  235.95  230.20  233.50  233.75   \n",
              "1     2018-09-27  234.55  236.80  231.10  233.80  233.25   \n",
              "2     2018-09-26  240.00  240.00  232.50  235.00  234.25   \n",
              "3     2018-09-25  233.30  236.75  232.00  236.25  236.10   \n",
              "4     2018-09-24  233.55  239.20  230.75  234.00  233.30   \n",
              "...          ...     ...     ...     ...     ...     ...   \n",
              "2030  2010-07-27  117.60  119.50  112.00  118.80  118.65   \n",
              "2031  2010-07-26  120.10  121.00  117.10  117.10  117.60   \n",
              "2032  2010-07-23  121.80  121.95  120.25  120.35  120.65   \n",
              "2033  2010-07-22  120.30  122.00  120.25  120.75  120.90   \n",
              "2034  2010-07-21  122.10  123.00  121.05  121.10  121.55   \n",
              "\n",
              "      Total Trade Quantity  Turnover (Lacs)  \n",
              "0                  3069914          7162.35  \n",
              "1                  5082859         11859.95  \n",
              "2                  2240909          5248.60  \n",
              "3                  2349368          5503.90  \n",
              "4                  3423509          7999.55  \n",
              "...                    ...              ...  \n",
              "2030                586100           694.98  \n",
              "2031                658440           780.01  \n",
              "2032                281312           340.31  \n",
              "2033                293312           355.17  \n",
              "2034                658666           803.56  \n",
              "\n",
              "[2035 rows x 8 columns]"
            ],
            "text/html": [
              "\n",
              "  <div id=\"df-6ac2e427-66a1-40e9-925c-99590eb56b28\">\n",
              "    <div class=\"colab-df-container\">\n",
              "      <div>\n",
              "<style scoped>\n",
              "    .dataframe tbody tr th:only-of-type {\n",
              "        vertical-align: middle;\n",
              "    }\n",
              "\n",
              "    .dataframe tbody tr th {\n",
              "        vertical-align: top;\n",
              "    }\n",
              "\n",
              "    .dataframe thead th {\n",
              "        text-align: right;\n",
              "    }\n",
              "</style>\n",
              "<table border=\"1\" class=\"dataframe\">\n",
              "  <thead>\n",
              "    <tr style=\"text-align: right;\">\n",
              "      <th></th>\n",
              "      <th>Date</th>\n",
              "      <th>Open</th>\n",
              "      <th>High</th>\n",
              "      <th>Low</th>\n",
              "      <th>Last</th>\n",
              "      <th>Close</th>\n",
              "      <th>Total Trade Quantity</th>\n",
              "      <th>Turnover (Lacs)</th>\n",
              "    </tr>\n",
              "  </thead>\n",
              "  <tbody>\n",
              "    <tr>\n",
              "      <th>0</th>\n",
              "      <td>2018-09-28</td>\n",
              "      <td>234.05</td>\n",
              "      <td>235.95</td>\n",
              "      <td>230.20</td>\n",
              "      <td>233.50</td>\n",
              "      <td>233.75</td>\n",
              "      <td>3069914</td>\n",
              "      <td>7162.35</td>\n",
              "    </tr>\n",
              "    <tr>\n",
              "      <th>1</th>\n",
              "      <td>2018-09-27</td>\n",
              "      <td>234.55</td>\n",
              "      <td>236.80</td>\n",
              "      <td>231.10</td>\n",
              "      <td>233.80</td>\n",
              "      <td>233.25</td>\n",
              "      <td>5082859</td>\n",
              "      <td>11859.95</td>\n",
              "    </tr>\n",
              "    <tr>\n",
              "      <th>2</th>\n",
              "      <td>2018-09-26</td>\n",
              "      <td>240.00</td>\n",
              "      <td>240.00</td>\n",
              "      <td>232.50</td>\n",
              "      <td>235.00</td>\n",
              "      <td>234.25</td>\n",
              "      <td>2240909</td>\n",
              "      <td>5248.60</td>\n",
              "    </tr>\n",
              "    <tr>\n",
              "      <th>3</th>\n",
              "      <td>2018-09-25</td>\n",
              "      <td>233.30</td>\n",
              "      <td>236.75</td>\n",
              "      <td>232.00</td>\n",
              "      <td>236.25</td>\n",
              "      <td>236.10</td>\n",
              "      <td>2349368</td>\n",
              "      <td>5503.90</td>\n",
              "    </tr>\n",
              "    <tr>\n",
              "      <th>4</th>\n",
              "      <td>2018-09-24</td>\n",
              "      <td>233.55</td>\n",
              "      <td>239.20</td>\n",
              "      <td>230.75</td>\n",
              "      <td>234.00</td>\n",
              "      <td>233.30</td>\n",
              "      <td>3423509</td>\n",
              "      <td>7999.55</td>\n",
              "    </tr>\n",
              "    <tr>\n",
              "      <th>...</th>\n",
              "      <td>...</td>\n",
              "      <td>...</td>\n",
              "      <td>...</td>\n",
              "      <td>...</td>\n",
              "      <td>...</td>\n",
              "      <td>...</td>\n",
              "      <td>...</td>\n",
              "      <td>...</td>\n",
              "    </tr>\n",
              "    <tr>\n",
              "      <th>2030</th>\n",
              "      <td>2010-07-27</td>\n",
              "      <td>117.60</td>\n",
              "      <td>119.50</td>\n",
              "      <td>112.00</td>\n",
              "      <td>118.80</td>\n",
              "      <td>118.65</td>\n",
              "      <td>586100</td>\n",
              "      <td>694.98</td>\n",
              "    </tr>\n",
              "    <tr>\n",
              "      <th>2031</th>\n",
              "      <td>2010-07-26</td>\n",
              "      <td>120.10</td>\n",
              "      <td>121.00</td>\n",
              "      <td>117.10</td>\n",
              "      <td>117.10</td>\n",
              "      <td>117.60</td>\n",
              "      <td>658440</td>\n",
              "      <td>780.01</td>\n",
              "    </tr>\n",
              "    <tr>\n",
              "      <th>2032</th>\n",
              "      <td>2010-07-23</td>\n",
              "      <td>121.80</td>\n",
              "      <td>121.95</td>\n",
              "      <td>120.25</td>\n",
              "      <td>120.35</td>\n",
              "      <td>120.65</td>\n",
              "      <td>281312</td>\n",
              "      <td>340.31</td>\n",
              "    </tr>\n",
              "    <tr>\n",
              "      <th>2033</th>\n",
              "      <td>2010-07-22</td>\n",
              "      <td>120.30</td>\n",
              "      <td>122.00</td>\n",
              "      <td>120.25</td>\n",
              "      <td>120.75</td>\n",
              "      <td>120.90</td>\n",
              "      <td>293312</td>\n",
              "      <td>355.17</td>\n",
              "    </tr>\n",
              "    <tr>\n",
              "      <th>2034</th>\n",
              "      <td>2010-07-21</td>\n",
              "      <td>122.10</td>\n",
              "      <td>123.00</td>\n",
              "      <td>121.05</td>\n",
              "      <td>121.10</td>\n",
              "      <td>121.55</td>\n",
              "      <td>658666</td>\n",
              "      <td>803.56</td>\n",
              "    </tr>\n",
              "  </tbody>\n",
              "</table>\n",
              "<p>2035 rows × 8 columns</p>\n",
              "</div>\n",
              "      <button class=\"colab-df-convert\" onclick=\"convertToInteractive('df-6ac2e427-66a1-40e9-925c-99590eb56b28')\"\n",
              "              title=\"Convert this dataframe to an interactive table.\"\n",
              "              style=\"display:none;\">\n",
              "        \n",
              "  <svg xmlns=\"http://www.w3.org/2000/svg\" height=\"24px\"viewBox=\"0 0 24 24\"\n",
              "       width=\"24px\">\n",
              "    <path d=\"M0 0h24v24H0V0z\" fill=\"none\"/>\n",
              "    <path d=\"M18.56 5.44l.94 2.06.94-2.06 2.06-.94-2.06-.94-.94-2.06-.94 2.06-2.06.94zm-11 1L8.5 8.5l.94-2.06 2.06-.94-2.06-.94L8.5 2.5l-.94 2.06-2.06.94zm10 10l.94 2.06.94-2.06 2.06-.94-2.06-.94-.94-2.06-.94 2.06-2.06.94z\"/><path d=\"M17.41 7.96l-1.37-1.37c-.4-.4-.92-.59-1.43-.59-.52 0-1.04.2-1.43.59L10.3 9.45l-7.72 7.72c-.78.78-.78 2.05 0 2.83L4 21.41c.39.39.9.59 1.41.59.51 0 1.02-.2 1.41-.59l7.78-7.78 2.81-2.81c.8-.78.8-2.07 0-2.86zM5.41 20L4 18.59l7.72-7.72 1.47 1.35L5.41 20z\"/>\n",
              "  </svg>\n",
              "      </button>\n",
              "      \n",
              "  <style>\n",
              "    .colab-df-container {\n",
              "      display:flex;\n",
              "      flex-wrap:wrap;\n",
              "      gap: 12px;\n",
              "    }\n",
              "\n",
              "    .colab-df-convert {\n",
              "      background-color: #E8F0FE;\n",
              "      border: none;\n",
              "      border-radius: 50%;\n",
              "      cursor: pointer;\n",
              "      display: none;\n",
              "      fill: #1967D2;\n",
              "      height: 32px;\n",
              "      padding: 0 0 0 0;\n",
              "      width: 32px;\n",
              "    }\n",
              "\n",
              "    .colab-df-convert:hover {\n",
              "      background-color: #E2EBFA;\n",
              "      box-shadow: 0px 1px 2px rgba(60, 64, 67, 0.3), 0px 1px 3px 1px rgba(60, 64, 67, 0.15);\n",
              "      fill: #174EA6;\n",
              "    }\n",
              "\n",
              "    [theme=dark] .colab-df-convert {\n",
              "      background-color: #3B4455;\n",
              "      fill: #D2E3FC;\n",
              "    }\n",
              "\n",
              "    [theme=dark] .colab-df-convert:hover {\n",
              "      background-color: #434B5C;\n",
              "      box-shadow: 0px 1px 3px 1px rgba(0, 0, 0, 0.15);\n",
              "      filter: drop-shadow(0px 1px 2px rgba(0, 0, 0, 0.3));\n",
              "      fill: #FFFFFF;\n",
              "    }\n",
              "  </style>\n",
              "\n",
              "      <script>\n",
              "        const buttonEl =\n",
              "          document.querySelector('#df-6ac2e427-66a1-40e9-925c-99590eb56b28 button.colab-df-convert');\n",
              "        buttonEl.style.display =\n",
              "          google.colab.kernel.accessAllowed ? 'block' : 'none';\n",
              "\n",
              "        async function convertToInteractive(key) {\n",
              "          const element = document.querySelector('#df-6ac2e427-66a1-40e9-925c-99590eb56b28');\n",
              "          const dataTable =\n",
              "            await google.colab.kernel.invokeFunction('convertToInteractive',\n",
              "                                                     [key], {});\n",
              "          if (!dataTable) return;\n",
              "\n",
              "          const docLinkHtml = 'Like what you see? Visit the ' +\n",
              "            '<a target=\"_blank\" href=https://colab.research.google.com/notebooks/data_table.ipynb>data table notebook</a>'\n",
              "            + ' to learn more about interactive tables.';\n",
              "          element.innerHTML = '';\n",
              "          dataTable['output_type'] = 'display_data';\n",
              "          await google.colab.output.renderOutput(dataTable, element);\n",
              "          const docLink = document.createElement('div');\n",
              "          docLink.innerHTML = docLinkHtml;\n",
              "          element.appendChild(docLink);\n",
              "        }\n",
              "      </script>\n",
              "    </div>\n",
              "  </div>\n",
              "  "
            ]
          },
          "metadata": {},
          "execution_count": 5
        }
      ]
    },
    {
      "cell_type": "code",
      "source": [
        "stock.describe()"
      ],
      "metadata": {
        "colab": {
          "base_uri": "https://localhost:8080/",
          "height": 300
        },
        "id": "p5Eo8Hhd9RJJ",
        "outputId": "0448bcaa-0442-4620-c376-c363c3c84e2b"
      },
      "execution_count": 6,
      "outputs": [
        {
          "output_type": "execute_result",
          "data": {
            "text/plain": [
              "              Open         High          Low         Last       Close  \\\n",
              "count  2035.000000  2035.000000  2035.000000  2035.000000  2035.00000   \n",
              "mean    149.713735   151.992826   147.293931   149.474251   149.45027   \n",
              "std      48.664509    49.413109    47.931958    48.732570    48.71204   \n",
              "min      81.100000    82.800000    80.000000    81.000000    80.95000   \n",
              "25%     120.025000   122.100000   118.300000   120.075000   120.05000   \n",
              "50%     141.500000   143.400000   139.600000   141.100000   141.25000   \n",
              "75%     157.175000   159.400000   155.150000   156.925000   156.90000   \n",
              "max     327.700000   328.750000   321.650000   325.950000   325.75000   \n",
              "\n",
              "       Total Trade Quantity  Turnover (Lacs)  \n",
              "count          2.035000e+03      2035.000000  \n",
              "mean           2.335681e+06      3899.980565  \n",
              "std            2.091778e+06      4570.767877  \n",
              "min            3.961000e+04        37.040000  \n",
              "25%            1.146444e+06      1427.460000  \n",
              "50%            1.783456e+06      2512.030000  \n",
              "75%            2.813594e+06      4539.015000  \n",
              "max            2.919102e+07     55755.080000  "
            ],
            "text/html": [
              "\n",
              "  <div id=\"df-f0af8799-4dc5-4cdd-976e-9b9427bacb4d\">\n",
              "    <div class=\"colab-df-container\">\n",
              "      <div>\n",
              "<style scoped>\n",
              "    .dataframe tbody tr th:only-of-type {\n",
              "        vertical-align: middle;\n",
              "    }\n",
              "\n",
              "    .dataframe tbody tr th {\n",
              "        vertical-align: top;\n",
              "    }\n",
              "\n",
              "    .dataframe thead th {\n",
              "        text-align: right;\n",
              "    }\n",
              "</style>\n",
              "<table border=\"1\" class=\"dataframe\">\n",
              "  <thead>\n",
              "    <tr style=\"text-align: right;\">\n",
              "      <th></th>\n",
              "      <th>Open</th>\n",
              "      <th>High</th>\n",
              "      <th>Low</th>\n",
              "      <th>Last</th>\n",
              "      <th>Close</th>\n",
              "      <th>Total Trade Quantity</th>\n",
              "      <th>Turnover (Lacs)</th>\n",
              "    </tr>\n",
              "  </thead>\n",
              "  <tbody>\n",
              "    <tr>\n",
              "      <th>count</th>\n",
              "      <td>2035.000000</td>\n",
              "      <td>2035.000000</td>\n",
              "      <td>2035.000000</td>\n",
              "      <td>2035.000000</td>\n",
              "      <td>2035.00000</td>\n",
              "      <td>2.035000e+03</td>\n",
              "      <td>2035.000000</td>\n",
              "    </tr>\n",
              "    <tr>\n",
              "      <th>mean</th>\n",
              "      <td>149.713735</td>\n",
              "      <td>151.992826</td>\n",
              "      <td>147.293931</td>\n",
              "      <td>149.474251</td>\n",
              "      <td>149.45027</td>\n",
              "      <td>2.335681e+06</td>\n",
              "      <td>3899.980565</td>\n",
              "    </tr>\n",
              "    <tr>\n",
              "      <th>std</th>\n",
              "      <td>48.664509</td>\n",
              "      <td>49.413109</td>\n",
              "      <td>47.931958</td>\n",
              "      <td>48.732570</td>\n",
              "      <td>48.71204</td>\n",
              "      <td>2.091778e+06</td>\n",
              "      <td>4570.767877</td>\n",
              "    </tr>\n",
              "    <tr>\n",
              "      <th>min</th>\n",
              "      <td>81.100000</td>\n",
              "      <td>82.800000</td>\n",
              "      <td>80.000000</td>\n",
              "      <td>81.000000</td>\n",
              "      <td>80.95000</td>\n",
              "      <td>3.961000e+04</td>\n",
              "      <td>37.040000</td>\n",
              "    </tr>\n",
              "    <tr>\n",
              "      <th>25%</th>\n",
              "      <td>120.025000</td>\n",
              "      <td>122.100000</td>\n",
              "      <td>118.300000</td>\n",
              "      <td>120.075000</td>\n",
              "      <td>120.05000</td>\n",
              "      <td>1.146444e+06</td>\n",
              "      <td>1427.460000</td>\n",
              "    </tr>\n",
              "    <tr>\n",
              "      <th>50%</th>\n",
              "      <td>141.500000</td>\n",
              "      <td>143.400000</td>\n",
              "      <td>139.600000</td>\n",
              "      <td>141.100000</td>\n",
              "      <td>141.25000</td>\n",
              "      <td>1.783456e+06</td>\n",
              "      <td>2512.030000</td>\n",
              "    </tr>\n",
              "    <tr>\n",
              "      <th>75%</th>\n",
              "      <td>157.175000</td>\n",
              "      <td>159.400000</td>\n",
              "      <td>155.150000</td>\n",
              "      <td>156.925000</td>\n",
              "      <td>156.90000</td>\n",
              "      <td>2.813594e+06</td>\n",
              "      <td>4539.015000</td>\n",
              "    </tr>\n",
              "    <tr>\n",
              "      <th>max</th>\n",
              "      <td>327.700000</td>\n",
              "      <td>328.750000</td>\n",
              "      <td>321.650000</td>\n",
              "      <td>325.950000</td>\n",
              "      <td>325.75000</td>\n",
              "      <td>2.919102e+07</td>\n",
              "      <td>55755.080000</td>\n",
              "    </tr>\n",
              "  </tbody>\n",
              "</table>\n",
              "</div>\n",
              "      <button class=\"colab-df-convert\" onclick=\"convertToInteractive('df-f0af8799-4dc5-4cdd-976e-9b9427bacb4d')\"\n",
              "              title=\"Convert this dataframe to an interactive table.\"\n",
              "              style=\"display:none;\">\n",
              "        \n",
              "  <svg xmlns=\"http://www.w3.org/2000/svg\" height=\"24px\"viewBox=\"0 0 24 24\"\n",
              "       width=\"24px\">\n",
              "    <path d=\"M0 0h24v24H0V0z\" fill=\"none\"/>\n",
              "    <path d=\"M18.56 5.44l.94 2.06.94-2.06 2.06-.94-2.06-.94-.94-2.06-.94 2.06-2.06.94zm-11 1L8.5 8.5l.94-2.06 2.06-.94-2.06-.94L8.5 2.5l-.94 2.06-2.06.94zm10 10l.94 2.06.94-2.06 2.06-.94-2.06-.94-.94-2.06-.94 2.06-2.06.94z\"/><path d=\"M17.41 7.96l-1.37-1.37c-.4-.4-.92-.59-1.43-.59-.52 0-1.04.2-1.43.59L10.3 9.45l-7.72 7.72c-.78.78-.78 2.05 0 2.83L4 21.41c.39.39.9.59 1.41.59.51 0 1.02-.2 1.41-.59l7.78-7.78 2.81-2.81c.8-.78.8-2.07 0-2.86zM5.41 20L4 18.59l7.72-7.72 1.47 1.35L5.41 20z\"/>\n",
              "  </svg>\n",
              "      </button>\n",
              "      \n",
              "  <style>\n",
              "    .colab-df-container {\n",
              "      display:flex;\n",
              "      flex-wrap:wrap;\n",
              "      gap: 12px;\n",
              "    }\n",
              "\n",
              "    .colab-df-convert {\n",
              "      background-color: #E8F0FE;\n",
              "      border: none;\n",
              "      border-radius: 50%;\n",
              "      cursor: pointer;\n",
              "      display: none;\n",
              "      fill: #1967D2;\n",
              "      height: 32px;\n",
              "      padding: 0 0 0 0;\n",
              "      width: 32px;\n",
              "    }\n",
              "\n",
              "    .colab-df-convert:hover {\n",
              "      background-color: #E2EBFA;\n",
              "      box-shadow: 0px 1px 2px rgba(60, 64, 67, 0.3), 0px 1px 3px 1px rgba(60, 64, 67, 0.15);\n",
              "      fill: #174EA6;\n",
              "    }\n",
              "\n",
              "    [theme=dark] .colab-df-convert {\n",
              "      background-color: #3B4455;\n",
              "      fill: #D2E3FC;\n",
              "    }\n",
              "\n",
              "    [theme=dark] .colab-df-convert:hover {\n",
              "      background-color: #434B5C;\n",
              "      box-shadow: 0px 1px 3px 1px rgba(0, 0, 0, 0.15);\n",
              "      filter: drop-shadow(0px 1px 2px rgba(0, 0, 0, 0.3));\n",
              "      fill: #FFFFFF;\n",
              "    }\n",
              "  </style>\n",
              "\n",
              "      <script>\n",
              "        const buttonEl =\n",
              "          document.querySelector('#df-f0af8799-4dc5-4cdd-976e-9b9427bacb4d button.colab-df-convert');\n",
              "        buttonEl.style.display =\n",
              "          google.colab.kernel.accessAllowed ? 'block' : 'none';\n",
              "\n",
              "        async function convertToInteractive(key) {\n",
              "          const element = document.querySelector('#df-f0af8799-4dc5-4cdd-976e-9b9427bacb4d');\n",
              "          const dataTable =\n",
              "            await google.colab.kernel.invokeFunction('convertToInteractive',\n",
              "                                                     [key], {});\n",
              "          if (!dataTable) return;\n",
              "\n",
              "          const docLinkHtml = 'Like what you see? Visit the ' +\n",
              "            '<a target=\"_blank\" href=https://colab.research.google.com/notebooks/data_table.ipynb>data table notebook</a>'\n",
              "            + ' to learn more about interactive tables.';\n",
              "          element.innerHTML = '';\n",
              "          dataTable['output_type'] = 'display_data';\n",
              "          await google.colab.output.renderOutput(dataTable, element);\n",
              "          const docLink = document.createElement('div');\n",
              "          docLink.innerHTML = docLinkHtml;\n",
              "          element.appendChild(docLink);\n",
              "        }\n",
              "      </script>\n",
              "    </div>\n",
              "  </div>\n",
              "  "
            ]
          },
          "metadata": {},
          "execution_count": 6
        }
      ]
    },
    {
      "cell_type": "code",
      "source": [
        "stock.columns"
      ],
      "metadata": {
        "colab": {
          "base_uri": "https://localhost:8080/"
        },
        "id": "-tTdxtCt9RLJ",
        "outputId": "d8fb6b57-b115-434d-bfef-20bc788822aa"
      },
      "execution_count": 8,
      "outputs": [
        {
          "output_type": "execute_result",
          "data": {
            "text/plain": [
              "Index(['Date', 'Open', 'High', 'Low', 'Last', 'Close', 'Total Trade Quantity',\n",
              "       'Turnover (Lacs)'],\n",
              "      dtype='object')"
            ]
          },
          "metadata": {},
          "execution_count": 8
        }
      ]
    },
    {
      "cell_type": "code",
      "source": [
        "stock.shape"
      ],
      "metadata": {
        "colab": {
          "base_uri": "https://localhost:8080/"
        },
        "id": "MGeQS1159RNd",
        "outputId": "0335b032-6828-4c84-eaa5-299735f7be25"
      },
      "execution_count": 9,
      "outputs": [
        {
          "output_type": "execute_result",
          "data": {
            "text/plain": [
              "(2035, 8)"
            ]
          },
          "metadata": {},
          "execution_count": 9
        }
      ]
    },
    {
      "cell_type": "code",
      "source": [
        "stock.info()"
      ],
      "metadata": {
        "colab": {
          "base_uri": "https://localhost:8080/"
        },
        "id": "bKKP8TQM9RP-",
        "outputId": "04530118-97b3-459a-fdfe-b307137f0fee"
      },
      "execution_count": 11,
      "outputs": [
        {
          "output_type": "stream",
          "name": "stdout",
          "text": [
            "<class 'pandas.core.frame.DataFrame'>\n",
            "RangeIndex: 2035 entries, 0 to 2034\n",
            "Data columns (total 8 columns):\n",
            " #   Column                Non-Null Count  Dtype  \n",
            "---  ------                --------------  -----  \n",
            " 0   Date                  2035 non-null   object \n",
            " 1   Open                  2035 non-null   float64\n",
            " 2   High                  2035 non-null   float64\n",
            " 3   Low                   2035 non-null   float64\n",
            " 4   Last                  2035 non-null   float64\n",
            " 5   Close                 2035 non-null   float64\n",
            " 6   Total Trade Quantity  2035 non-null   int64  \n",
            " 7   Turnover (Lacs)       2035 non-null   float64\n",
            "dtypes: float64(6), int64(1), object(1)\n",
            "memory usage: 127.3+ KB\n"
          ]
        }
      ]
    },
    {
      "cell_type": "code",
      "source": [
        "stock['Date']= pd.to_datetime(stock['Date'])"
      ],
      "metadata": {
        "id": "X9VbjH2J9RSc"
      },
      "execution_count": 12,
      "outputs": []
    },
    {
      "cell_type": "code",
      "source": [
        "#Sorting values w.r.t the dates\n",
        "stock.sort_values( by='Date', ignore_index= True,inplace= True )\n",
        "stock"
      ],
      "metadata": {
        "colab": {
          "base_uri": "https://localhost:8080/",
          "height": 423
        },
        "id": "WbI6YUaMGtli",
        "outputId": "5417ba62-3f80-4584-f146-d37e70dcf70a"
      },
      "execution_count": 14,
      "outputs": [
        {
          "output_type": "execute_result",
          "data": {
            "text/plain": [
              "           Date    Open    High     Low    Last   Close  Total Trade Quantity  \\\n",
              "0    2010-07-21  122.10  123.00  121.05  121.10  121.55                658666   \n",
              "1    2010-07-22  120.30  122.00  120.25  120.75  120.90                293312   \n",
              "2    2010-07-23  121.80  121.95  120.25  120.35  120.65                281312   \n",
              "3    2010-07-26  120.10  121.00  117.10  117.10  117.60                658440   \n",
              "4    2010-07-27  117.60  119.50  112.00  118.80  118.65                586100   \n",
              "...         ...     ...     ...     ...     ...     ...                   ...   \n",
              "2030 2018-09-24  233.55  239.20  230.75  234.00  233.30               3423509   \n",
              "2031 2018-09-25  233.30  236.75  232.00  236.25  236.10               2349368   \n",
              "2032 2018-09-26  240.00  240.00  232.50  235.00  234.25               2240909   \n",
              "2033 2018-09-27  234.55  236.80  231.10  233.80  233.25               5082859   \n",
              "2034 2018-09-28  234.05  235.95  230.20  233.50  233.75               3069914   \n",
              "\n",
              "      Turnover (Lacs)  \n",
              "0              803.56  \n",
              "1              355.17  \n",
              "2              340.31  \n",
              "3              780.01  \n",
              "4              694.98  \n",
              "...               ...  \n",
              "2030          7999.55  \n",
              "2031          5503.90  \n",
              "2032          5248.60  \n",
              "2033         11859.95  \n",
              "2034          7162.35  \n",
              "\n",
              "[2035 rows x 8 columns]"
            ],
            "text/html": [
              "\n",
              "  <div id=\"df-90830414-8d03-4ca8-86b9-0b6275d186cf\">\n",
              "    <div class=\"colab-df-container\">\n",
              "      <div>\n",
              "<style scoped>\n",
              "    .dataframe tbody tr th:only-of-type {\n",
              "        vertical-align: middle;\n",
              "    }\n",
              "\n",
              "    .dataframe tbody tr th {\n",
              "        vertical-align: top;\n",
              "    }\n",
              "\n",
              "    .dataframe thead th {\n",
              "        text-align: right;\n",
              "    }\n",
              "</style>\n",
              "<table border=\"1\" class=\"dataframe\">\n",
              "  <thead>\n",
              "    <tr style=\"text-align: right;\">\n",
              "      <th></th>\n",
              "      <th>Date</th>\n",
              "      <th>Open</th>\n",
              "      <th>High</th>\n",
              "      <th>Low</th>\n",
              "      <th>Last</th>\n",
              "      <th>Close</th>\n",
              "      <th>Total Trade Quantity</th>\n",
              "      <th>Turnover (Lacs)</th>\n",
              "    </tr>\n",
              "  </thead>\n",
              "  <tbody>\n",
              "    <tr>\n",
              "      <th>0</th>\n",
              "      <td>2010-07-21</td>\n",
              "      <td>122.10</td>\n",
              "      <td>123.00</td>\n",
              "      <td>121.05</td>\n",
              "      <td>121.10</td>\n",
              "      <td>121.55</td>\n",
              "      <td>658666</td>\n",
              "      <td>803.56</td>\n",
              "    </tr>\n",
              "    <tr>\n",
              "      <th>1</th>\n",
              "      <td>2010-07-22</td>\n",
              "      <td>120.30</td>\n",
              "      <td>122.00</td>\n",
              "      <td>120.25</td>\n",
              "      <td>120.75</td>\n",
              "      <td>120.90</td>\n",
              "      <td>293312</td>\n",
              "      <td>355.17</td>\n",
              "    </tr>\n",
              "    <tr>\n",
              "      <th>2</th>\n",
              "      <td>2010-07-23</td>\n",
              "      <td>121.80</td>\n",
              "      <td>121.95</td>\n",
              "      <td>120.25</td>\n",
              "      <td>120.35</td>\n",
              "      <td>120.65</td>\n",
              "      <td>281312</td>\n",
              "      <td>340.31</td>\n",
              "    </tr>\n",
              "    <tr>\n",
              "      <th>3</th>\n",
              "      <td>2010-07-26</td>\n",
              "      <td>120.10</td>\n",
              "      <td>121.00</td>\n",
              "      <td>117.10</td>\n",
              "      <td>117.10</td>\n",
              "      <td>117.60</td>\n",
              "      <td>658440</td>\n",
              "      <td>780.01</td>\n",
              "    </tr>\n",
              "    <tr>\n",
              "      <th>4</th>\n",
              "      <td>2010-07-27</td>\n",
              "      <td>117.60</td>\n",
              "      <td>119.50</td>\n",
              "      <td>112.00</td>\n",
              "      <td>118.80</td>\n",
              "      <td>118.65</td>\n",
              "      <td>586100</td>\n",
              "      <td>694.98</td>\n",
              "    </tr>\n",
              "    <tr>\n",
              "      <th>...</th>\n",
              "      <td>...</td>\n",
              "      <td>...</td>\n",
              "      <td>...</td>\n",
              "      <td>...</td>\n",
              "      <td>...</td>\n",
              "      <td>...</td>\n",
              "      <td>...</td>\n",
              "      <td>...</td>\n",
              "    </tr>\n",
              "    <tr>\n",
              "      <th>2030</th>\n",
              "      <td>2018-09-24</td>\n",
              "      <td>233.55</td>\n",
              "      <td>239.20</td>\n",
              "      <td>230.75</td>\n",
              "      <td>234.00</td>\n",
              "      <td>233.30</td>\n",
              "      <td>3423509</td>\n",
              "      <td>7999.55</td>\n",
              "    </tr>\n",
              "    <tr>\n",
              "      <th>2031</th>\n",
              "      <td>2018-09-25</td>\n",
              "      <td>233.30</td>\n",
              "      <td>236.75</td>\n",
              "      <td>232.00</td>\n",
              "      <td>236.25</td>\n",
              "      <td>236.10</td>\n",
              "      <td>2349368</td>\n",
              "      <td>5503.90</td>\n",
              "    </tr>\n",
              "    <tr>\n",
              "      <th>2032</th>\n",
              "      <td>2018-09-26</td>\n",
              "      <td>240.00</td>\n",
              "      <td>240.00</td>\n",
              "      <td>232.50</td>\n",
              "      <td>235.00</td>\n",
              "      <td>234.25</td>\n",
              "      <td>2240909</td>\n",
              "      <td>5248.60</td>\n",
              "    </tr>\n",
              "    <tr>\n",
              "      <th>2033</th>\n",
              "      <td>2018-09-27</td>\n",
              "      <td>234.55</td>\n",
              "      <td>236.80</td>\n",
              "      <td>231.10</td>\n",
              "      <td>233.80</td>\n",
              "      <td>233.25</td>\n",
              "      <td>5082859</td>\n",
              "      <td>11859.95</td>\n",
              "    </tr>\n",
              "    <tr>\n",
              "      <th>2034</th>\n",
              "      <td>2018-09-28</td>\n",
              "      <td>234.05</td>\n",
              "      <td>235.95</td>\n",
              "      <td>230.20</td>\n",
              "      <td>233.50</td>\n",
              "      <td>233.75</td>\n",
              "      <td>3069914</td>\n",
              "      <td>7162.35</td>\n",
              "    </tr>\n",
              "  </tbody>\n",
              "</table>\n",
              "<p>2035 rows × 8 columns</p>\n",
              "</div>\n",
              "      <button class=\"colab-df-convert\" onclick=\"convertToInteractive('df-90830414-8d03-4ca8-86b9-0b6275d186cf')\"\n",
              "              title=\"Convert this dataframe to an interactive table.\"\n",
              "              style=\"display:none;\">\n",
              "        \n",
              "  <svg xmlns=\"http://www.w3.org/2000/svg\" height=\"24px\"viewBox=\"0 0 24 24\"\n",
              "       width=\"24px\">\n",
              "    <path d=\"M0 0h24v24H0V0z\" fill=\"none\"/>\n",
              "    <path d=\"M18.56 5.44l.94 2.06.94-2.06 2.06-.94-2.06-.94-.94-2.06-.94 2.06-2.06.94zm-11 1L8.5 8.5l.94-2.06 2.06-.94-2.06-.94L8.5 2.5l-.94 2.06-2.06.94zm10 10l.94 2.06.94-2.06 2.06-.94-2.06-.94-.94-2.06-.94 2.06-2.06.94z\"/><path d=\"M17.41 7.96l-1.37-1.37c-.4-.4-.92-.59-1.43-.59-.52 0-1.04.2-1.43.59L10.3 9.45l-7.72 7.72c-.78.78-.78 2.05 0 2.83L4 21.41c.39.39.9.59 1.41.59.51 0 1.02-.2 1.41-.59l7.78-7.78 2.81-2.81c.8-.78.8-2.07 0-2.86zM5.41 20L4 18.59l7.72-7.72 1.47 1.35L5.41 20z\"/>\n",
              "  </svg>\n",
              "      </button>\n",
              "      \n",
              "  <style>\n",
              "    .colab-df-container {\n",
              "      display:flex;\n",
              "      flex-wrap:wrap;\n",
              "      gap: 12px;\n",
              "    }\n",
              "\n",
              "    .colab-df-convert {\n",
              "      background-color: #E8F0FE;\n",
              "      border: none;\n",
              "      border-radius: 50%;\n",
              "      cursor: pointer;\n",
              "      display: none;\n",
              "      fill: #1967D2;\n",
              "      height: 32px;\n",
              "      padding: 0 0 0 0;\n",
              "      width: 32px;\n",
              "    }\n",
              "\n",
              "    .colab-df-convert:hover {\n",
              "      background-color: #E2EBFA;\n",
              "      box-shadow: 0px 1px 2px rgba(60, 64, 67, 0.3), 0px 1px 3px 1px rgba(60, 64, 67, 0.15);\n",
              "      fill: #174EA6;\n",
              "    }\n",
              "\n",
              "    [theme=dark] .colab-df-convert {\n",
              "      background-color: #3B4455;\n",
              "      fill: #D2E3FC;\n",
              "    }\n",
              "\n",
              "    [theme=dark] .colab-df-convert:hover {\n",
              "      background-color: #434B5C;\n",
              "      box-shadow: 0px 1px 3px 1px rgba(0, 0, 0, 0.15);\n",
              "      filter: drop-shadow(0px 1px 2px rgba(0, 0, 0, 0.3));\n",
              "      fill: #FFFFFF;\n",
              "    }\n",
              "  </style>\n",
              "\n",
              "      <script>\n",
              "        const buttonEl =\n",
              "          document.querySelector('#df-90830414-8d03-4ca8-86b9-0b6275d186cf button.colab-df-convert');\n",
              "        buttonEl.style.display =\n",
              "          google.colab.kernel.accessAllowed ? 'block' : 'none';\n",
              "\n",
              "        async function convertToInteractive(key) {\n",
              "          const element = document.querySelector('#df-90830414-8d03-4ca8-86b9-0b6275d186cf');\n",
              "          const dataTable =\n",
              "            await google.colab.kernel.invokeFunction('convertToInteractive',\n",
              "                                                     [key], {});\n",
              "          if (!dataTable) return;\n",
              "\n",
              "          const docLinkHtml = 'Like what you see? Visit the ' +\n",
              "            '<a target=\"_blank\" href=https://colab.research.google.com/notebooks/data_table.ipynb>data table notebook</a>'\n",
              "            + ' to learn more about interactive tables.';\n",
              "          element.innerHTML = '';\n",
              "          dataTable['output_type'] = 'display_data';\n",
              "          await google.colab.output.renderOutput(dataTable, element);\n",
              "          const docLink = document.createElement('div');\n",
              "          docLink.innerHTML = docLinkHtml;\n",
              "          element.appendChild(docLink);\n",
              "        }\n",
              "      </script>\n",
              "    </div>\n",
              "  </div>\n",
              "  "
            ]
          },
          "metadata": {},
          "execution_count": 14
        }
      ]
    },
    {
      "cell_type": "code",
      "source": [
        "stock['Date'].value_counts()"
      ],
      "metadata": {
        "colab": {
          "base_uri": "https://localhost:8080/"
        },
        "id": "6PQ4B1zGGtnI",
        "outputId": "6433c09b-a591-4a0b-aad5-97fd10744af9"
      },
      "execution_count": 15,
      "outputs": [
        {
          "output_type": "execute_result",
          "data": {
            "text/plain": [
              "2010-07-21    1\n",
              "2015-12-29    1\n",
              "2016-01-15    1\n",
              "2016-01-14    1\n",
              "2016-01-13    1\n",
              "             ..\n",
              "2013-03-26    1\n",
              "2013-03-25    1\n",
              "2013-03-22    1\n",
              "2013-03-21    1\n",
              "2018-09-28    1\n",
              "Name: Date, Length: 2035, dtype: int64"
            ]
          },
          "metadata": {},
          "execution_count": 15
        }
      ]
    },
    {
      "cell_type": "code",
      "source": [
        "stock_close = stock.reset_index()['Close']\n",
        "stock_close"
      ],
      "metadata": {
        "colab": {
          "base_uri": "https://localhost:8080/"
        },
        "id": "fPjeMzetUWE8",
        "outputId": "07913f33-bb77-4d23-9d0d-1c34588616e9"
      },
      "execution_count": 52,
      "outputs": [
        {
          "output_type": "execute_result",
          "data": {
            "text/plain": [
              "0       121.55\n",
              "1       120.90\n",
              "2       120.65\n",
              "3       117.60\n",
              "4       118.65\n",
              "         ...  \n",
              "2030    233.30\n",
              "2031    236.10\n",
              "2032    234.25\n",
              "2033    233.25\n",
              "2034    233.75\n",
              "Name: Close, Length: 2035, dtype: float64"
            ]
          },
          "metadata": {},
          "execution_count": 52
        }
      ]
    },
    {
      "cell_type": "code",
      "source": [
        "stock_close.plot(figsize= (15,8))   #Plotting Close value"
      ],
      "metadata": {
        "colab": {
          "base_uri": "https://localhost:8080/",
          "height": 501
        },
        "id": "BdMNjEMGGto0",
        "outputId": "00a17a24-3d76-443f-c394-10ee2f37b72a"
      },
      "execution_count": 53,
      "outputs": [
        {
          "output_type": "execute_result",
          "data": {
            "text/plain": [
              "<AxesSubplot:>"
            ]
          },
          "metadata": {},
          "execution_count": 53
        },
        {
          "output_type": "display_data",
          "data": {
            "text/plain": [
              "<Figure size 1080x576 with 1 Axes>"
            ],
            "image/png": "[encoded data removed]"
          },
          "metadata": {
            "needs_background": "light"
          }
        }
      ]
    },
    {
      "cell_type": "code",
      "source": [
        "from sklearn.preprocessing import MinMaxScaler\n",
        "scale = MinMaxScaler(feature_range=(0,1))\n",
        "data = scale.fit_transform(np.array(stock_close).reshape(-1,1))  #Scaling and Reshaping the data\n",
        "data"
      ],
      "metadata": {
        "colab": {
          "base_uri": "https://localhost:8080/"
        },
        "id": "SLey8FwJGtq2",
        "outputId": "ab35479c-8db2-4761-d63e-92da1bb5625a"
      },
      "execution_count": 50,
      "outputs": [
        {
          "output_type": "execute_result",
          "data": {
            "text/plain": [
              "array([[0.16584967],\n",
              "       [0.16319444],\n",
              "       [0.1621732 ],\n",
              "       ...,\n",
              "       [0.62622549],\n",
              "       [0.62214052],\n",
              "       [0.62418301]])"
            ]
          },
          "metadata": {},
          "execution_count": 50
        }
      ]
    },
    {
      "cell_type": "code",
      "source": [
        "train_size = int(len(data)*0.80)\n",
        "test_size = len(data)-train_size\n",
        "train_data = data[0:train_size,:]\n",
        "test_data = data[train_size:len(data),:]"
      ],
      "metadata": {
        "id": "yLeETJKJGts0"
      },
      "execution_count": 28,
      "outputs": []
    },
    {
      "cell_type": "code",
      "source": [
        "train_data"
      ],
      "metadata": {
        "colab": {
          "base_uri": "https://localhost:8080/"
        },
        "id": "6euIWSB9GtvB",
        "outputId": "f3eba14b-c7b5-46f0-9a89-6cb0e051d82d"
      },
      "execution_count": 29,
      "outputs": [
        {
          "output_type": "execute_result",
          "data": {
            "text/plain": [
              "array([[0.16584967],\n",
              "       [0.16319444],\n",
              "       [0.1621732 ],\n",
              "       ...,\n",
              "       [0.24877451],\n",
              "       [0.25245098],\n",
              "       [0.24795752]])"
            ]
          },
          "metadata": {},
          "execution_count": 29
        }
      ]
    },
    {
      "cell_type": "code",
      "source": [
        "test_data"
      ],
      "metadata": {
        "colab": {
          "base_uri": "https://localhost:8080/"
        },
        "id": "TLIAu3PFGtxI",
        "outputId": "2aaab7b9-70c5-45fe-8b87-0e2d7e1f8655"
      },
      "execution_count": 61,
      "outputs": [
        {
          "output_type": "execute_result",
          "data": {
            "text/plain": [
              "array([[0.26633987],\n",
              "       [0.25714869],\n",
              "       [0.25735294],\n",
              "       [0.24918301],\n",
              "       [0.24611928],\n",
              "       [0.23611111],\n",
              "       [0.24162582],\n",
              "       [0.24183007],\n",
              "       [0.24775327],\n",
              "       [0.24775327],\n",
              "       [0.24121732],\n",
              "       [0.23815359],\n",
              "       [0.23672386],\n",
              "       [0.23325163],\n",
              "       [0.2559232 ],\n",
              "       [0.24571078],\n",
              "       [0.25490196],\n",
              "       [0.25449346],\n",
              "       [0.25245098],\n",
              "       [0.24693627],\n",
              "       [0.24448529],\n",
              "       [0.22937092],\n",
              "       [0.23917484],\n",
              "       [0.24489379],\n",
              "       [0.26041667],\n",
              "       [0.26082516],\n",
              "       [0.26756536],\n",
              "       [0.26531863],\n",
              "       [0.25388072],\n",
              "       [0.28860294],\n",
              "       [0.28676471],\n",
              "       [0.27634804],\n",
              "       [0.28431373],\n",
              "       [0.28451797],\n",
              "       [0.28267974],\n",
              "       [0.28431373],\n",
              "       [0.28982843],\n",
              "       [0.29289216],\n",
              "       [0.29452614],\n",
              "       [0.28451797],\n",
              "       [0.28594771],\n",
              "       [0.29595588],\n",
              "       [0.28921569],\n",
              "       [0.28410948],\n",
              "       [0.27982026],\n",
              "       [0.2745098 ],\n",
              "       [0.28288399],\n",
              "       [0.29084967],\n",
              "       [0.28737745],\n",
              "       [0.29003268],\n",
              "       [0.28901144],\n",
              "       [0.29738562],\n",
              "       [0.29064542],\n",
              "       [0.29473039],\n",
              "       [0.31352124],\n",
              "       [0.30739379],\n",
              "       [0.30392157],\n",
              "       [0.29146242],\n",
              "       [0.29268791],\n",
              "       [0.29861111],\n",
              "       [0.30187908],\n",
              "       [0.29840686],\n",
              "       [0.29289216],\n",
              "       [0.30085784],\n",
              "       [0.3002451 ],\n",
              "       [0.29370915],\n",
              "       [0.27185458],\n",
              "       [0.28002451],\n",
              "       [0.27308007],\n",
              "       [0.26062092],\n",
              "       [0.24816176],\n",
              "       [0.25367647],\n",
              "       [0.26940359],\n",
              "       [0.26327614],\n",
              "       [0.26388889],\n",
              "       [0.27961601],\n",
              "       [0.29187092],\n",
              "       [0.30187908],\n",
              "       [0.30228758],\n",
              "       [0.2943219 ],\n",
              "       [0.30473856],\n",
              "       [0.30085784],\n",
              "       [0.30004085],\n",
              "       [0.29064542],\n",
              "       [0.30841503],\n",
              "       [0.31658497],\n",
              "       [0.3192402 ],\n",
              "       [0.31556373],\n",
              "       [0.30821078],\n",
              "       [0.31004902],\n",
              "       [0.30984477],\n",
              "       [0.30147059],\n",
              "       [0.28676471],\n",
              "       [0.27124183],\n",
              "       [0.27859477],\n",
              "       [0.27593954],\n",
              "       [0.28472222],\n",
              "       [0.28860294],\n",
              "       [0.28227124],\n",
              "       [0.30718954],\n",
              "       [0.29575163],\n",
              "       [0.31372549],\n",
              "       [0.3496732 ],\n",
              "       [0.36172386],\n",
              "       [0.37908497],\n",
              "       [0.38582516],\n",
              "       [0.3809232 ],\n",
              "       [0.39236111],\n",
              "       [0.37908497],\n",
              "       [0.38480392],\n",
              "       [0.3690768 ],\n",
              "       [0.37275327],\n",
              "       [0.36376634],\n",
              "       [0.36846405],\n",
              "       [0.37275327],\n",
              "       [0.35723039],\n",
              "       [0.36029412],\n",
              "       [0.3619281 ],\n",
              "       [0.35355392],\n",
              "       [0.34375   ],\n",
              "       [0.3500817 ],\n",
              "       [0.34926471],\n",
              "       [0.36560458],\n",
              "       [0.34742647],\n",
              "       [0.3314951 ],\n",
              "       [0.3065768 ],\n",
              "       [0.34007353],\n",
              "       [0.3995098 ],\n",
              "       [0.46119281],\n",
              "       [0.44791667],\n",
              "       [0.46343954],\n",
              "       [0.47058824],\n",
              "       [0.44485294],\n",
              "       [0.47222222],\n",
              "       [0.4628268 ],\n",
              "       [0.45894608],\n",
              "       [0.44689542],\n",
              "       [0.47426471],\n",
              "       [0.47814542],\n",
              "       [0.47651144],\n",
              "       [0.45894608],\n",
              "       [0.47283497],\n",
              "       [0.51062092],\n",
              "       [0.50980392],\n",
              "       [0.51450163],\n",
              "       [0.52410131],\n",
              "       [0.53553922],\n",
              "       [0.51613562],\n",
              "       [0.53553922],\n",
              "       [0.52941176],\n",
              "       [0.54064542],\n",
              "       [0.55249183],\n",
              "       [0.54227941],\n",
              "       [0.53615196],\n",
              "       [0.49101307],\n",
              "       [0.47263072],\n",
              "       [0.50531046],\n",
              "       [0.48059641],\n",
              "       [0.49918301],\n",
              "       [0.51000817],\n",
              "       [0.5126634 ],\n",
              "       [0.50653595],\n",
              "       [0.5249183 ],\n",
              "       [0.52553105],\n",
              "       [0.52022059],\n",
              "       [0.52083333],\n",
              "       [0.52471405],\n",
              "       [0.53533497],\n",
              "       [0.52818627],\n",
              "       [0.52553105],\n",
              "       [0.52839052],\n",
              "       [0.51409314],\n",
              "       [0.50510621],\n",
              "       [0.49897876],\n",
              "       [0.52573529],\n",
              "       [0.50796569],\n",
              "       [0.52634804],\n",
              "       [0.57005719],\n",
              "       [0.59579248],\n",
              "       [0.59640523],\n",
              "       [0.59987745],\n",
              "       [0.59395425],\n",
              "       [0.58966503],\n",
              "       [0.62806373],\n",
              "       [0.58843954],\n",
              "       [0.58639706],\n",
              "       [0.65155229],\n",
              "       [0.63398693],\n",
              "       [0.62683824],\n",
              "       [0.67708333],\n",
              "       [0.6942402 ],\n",
              "       [0.69852941],\n",
              "       [0.7310049 ],\n",
              "       [0.79227941],\n",
              "       [0.78513072],\n",
              "       [0.78880719],\n",
              "       [0.79187092],\n",
              "       [0.80780229],\n",
              "       [0.80269608],\n",
              "       [0.84477124],\n",
              "       [0.81392974],\n",
              "       [0.84211601],\n",
              "       [0.82761438],\n",
              "       [0.80923203],\n",
              "       [0.8129085 ],\n",
              "       [0.79248366],\n",
              "       [0.82945261],\n",
              "       [0.84763072],\n",
              "       [0.8880719 ],\n",
              "       [0.84497549],\n",
              "       [0.83129085],\n",
              "       [0.8306781 ],\n",
              "       [0.84109477],\n",
              "       [0.85743464],\n",
              "       [0.89746732],\n",
              "       [0.89828431],\n",
              "       [0.89542484],\n",
              "       [0.90604575],\n",
              "       [0.91911765],\n",
              "       [0.91748366],\n",
              "       [0.92177288],\n",
              "       [0.96180556],\n",
              "       [0.94750817],\n",
              "       [0.94035948],\n",
              "       [0.94056373],\n",
              "       [0.94485294],\n",
              "       [0.94771242],\n",
              "       [0.96670752],\n",
              "       [0.95731209],\n",
              "       [0.95241013],\n",
              "       [0.94914216],\n",
              "       [1.        ],\n",
              "       [0.98876634],\n",
              "       [0.96180556],\n",
              "       [0.9501634 ],\n",
              "       [0.91707516],\n",
              "       [0.92892157],\n",
              "       [0.93096405],\n",
              "       [0.92422386],\n",
              "       [0.9121732 ],\n",
              "       [0.9121732 ],\n",
              "       [0.90216503],\n",
              "       [0.91115196],\n",
              "       [0.85661765],\n",
              "       [0.84722222],\n",
              "       [0.79207516],\n",
              "       [0.78492647],\n",
              "       [0.75878268],\n",
              "       [0.81372549],\n",
              "       [0.81495098],\n",
              "       [0.80596405],\n",
              "       [0.83394608],\n",
              "       [0.82107843],\n",
              "       [0.80923203],\n",
              "       [0.79513889],\n",
              "       [0.76388889],\n",
              "       [0.74305556],\n",
              "       [0.75837418],\n",
              "       [0.74019608],\n",
              "       [0.77512255],\n",
              "       [0.78656046],\n",
              "       [0.79268791],\n",
              "       [0.79473039],\n",
              "       [0.79207516],\n",
              "       [0.79534314],\n",
              "       [0.78921569],\n",
              "       [0.76776961],\n",
              "       [0.78615196],\n",
              "       [0.76552288],\n",
              "       [0.79697712],\n",
              "       [0.8057598 ],\n",
              "       [0.80698529],\n",
              "       [0.81147876],\n",
              "       [0.78206699],\n",
              "       [0.73386438],\n",
              "       [0.73978758],\n",
              "       [0.74448529],\n",
              "       [0.72671569],\n",
              "       [0.72283497],\n",
              "       [0.74040033],\n",
              "       [0.74693627],\n",
              "       [0.72630719],\n",
              "       [0.80065359],\n",
              "       [0.79187092],\n",
              "       [0.77328431],\n",
              "       [0.78451797],\n",
              "       [0.78329248],\n",
              "       [0.80412582],\n",
              "       [0.79473039],\n",
              "       [0.7879902 ],\n",
              "       [0.7879902 ],\n",
              "       [0.79473039],\n",
              "       [0.81168301],\n",
              "       [0.81699346],\n",
              "       [0.82986111],\n",
              "       [0.83843954],\n",
              "       [0.83884804],\n",
              "       [0.82781863],\n",
              "       [0.82598039],\n",
              "       [0.85028595],\n",
              "       [0.85886438],\n",
              "       [0.86254085],\n",
              "       [0.88480392],\n",
              "       [0.86519608],\n",
              "       [0.84027778],\n",
              "       [0.84497549],\n",
              "       [0.87111928],\n",
              "       [0.85273693],\n",
              "       [0.86213235],\n",
              "       [0.83455882],\n",
              "       [0.84375   ],\n",
              "       [0.71466503],\n",
              "       [0.66053922],\n",
              "       [0.65420752],\n",
              "       [0.68035131],\n",
              "       [0.6689134 ],\n",
              "       [0.66421569],\n",
              "       [0.67892157],\n",
              "       [0.69138072],\n",
              "       [0.70894608],\n",
              "       [0.72263072],\n",
              "       [0.73406863],\n",
              "       [0.72120098],\n",
              "       [0.74979575],\n",
              "       [0.7689951 ],\n",
              "       [0.74468954],\n",
              "       [0.7120098 ],\n",
              "       [0.74673203],\n",
              "       [0.75490196],\n",
              "       [0.76041667],\n",
              "       [0.75980392],\n",
              "       [0.74652778],\n",
              "       [0.76245915],\n",
              "       [0.77062908],\n",
              "       [0.80412582],\n",
              "       [0.78104575],\n",
              "       [0.79411765],\n",
              "       [0.76021242],\n",
              "       [0.73488562],\n",
              "       [0.72406046],\n",
              "       [0.73999183],\n",
              "       [0.74979575],\n",
              "       [0.76143791],\n",
              "       [0.75428922],\n",
              "       [0.74754902],\n",
              "       [0.76960784],\n",
              "       [0.7495915 ],\n",
              "       [0.81719771],\n",
              "       [0.80208333],\n",
              "       [0.77736928],\n",
              "       [0.75714869],\n",
              "       [0.79370915],\n",
              "       [0.79166667],\n",
              "       [0.77144608],\n",
              "       [0.75265523],\n",
              "       [0.72691993],\n",
              "       [0.6629902 ],\n",
              "       [0.68198529],\n",
              "       [0.64419935],\n",
              "       [0.62152778],\n",
              "       [0.6439951 ],\n",
              "       [0.66319444],\n",
              "       [0.67544935],\n",
              "       [0.63705065],\n",
              "       [0.64603758],\n",
              "       [0.65890523],\n",
              "       [0.65870098],\n",
              "       [0.67790033],\n",
              "       [0.63194444],\n",
              "       [0.63112745],\n",
              "       [0.62785948],\n",
              "       [0.64767157],\n",
              "       [0.63991013],\n",
              "       [0.63480392],\n",
              "       [0.63868464],\n",
              "       [0.62336601],\n",
              "       [0.62745098],\n",
              "       [0.63970588],\n",
              "       [0.64705882],\n",
              "       [0.66196895],\n",
              "       [0.67075163],\n",
              "       [0.65196078],\n",
              "       [0.63112745],\n",
              "       [0.61294935],\n",
              "       [0.6376634 ],\n",
              "       [0.62254902],\n",
              "       [0.62745098],\n",
              "       [0.63337418],\n",
              "       [0.62642974],\n",
              "       [0.63623366],\n",
              "       [0.58312908],\n",
              "       [0.57781863],\n",
              "       [0.57230392],\n",
              "       [0.58006536],\n",
              "       [0.57618464],\n",
              "       [0.55167484],\n",
              "       [0.57883987],\n",
              "       [0.625     ],\n",
              "       [0.63582516],\n",
              "       [0.62949346],\n",
              "       [0.62888072],\n",
              "       [0.62765523],\n",
              "       [0.62234477],\n",
              "       [0.63378268],\n",
              "       [0.62622549],\n",
              "       [0.62214052],\n",
              "       [0.62418301]])"
            ]
          },
          "metadata": {},
          "execution_count": 61
        }
      ]
    },
    {
      "cell_type": "code",
      "source": [
        "train_size"
      ],
      "metadata": {
        "colab": {
          "base_uri": "https://localhost:8080/"
        },
        "id": "dDTD8zJQGtze",
        "outputId": "fee368e7-6d76-4d4c-cabb-4defcc0fdf15"
      },
      "execution_count": 31,
      "outputs": [
        {
          "output_type": "execute_result",
          "data": {
            "text/plain": [
              "1628"
            ]
          },
          "metadata": {},
          "execution_count": 31
        }
      ]
    },
    {
      "cell_type": "code",
      "source": [
        "test_size"
      ],
      "metadata": {
        "colab": {
          "base_uri": "https://localhost:8080/"
        },
        "id": "2mvLPvb7Gt1G",
        "outputId": "997fa330-223f-4ebe-d33d-caddb16f184d"
      },
      "execution_count": 32,
      "outputs": [
        {
          "output_type": "execute_result",
          "data": {
            "text/plain": [
              "407"
            ]
          },
          "metadata": {},
          "execution_count": 32
        }
      ]
    },
    {
      "cell_type": "code",
      "source": [
        "time_step = 100\n",
        "x_train,y_train = [],[]\n",
        "for i in range(len(train_data)-time_step-1):\n",
        "    a = train_data[i:(i+time_step),0]\n",
        "    x_train.append(a)\n",
        "    y_train.append(train_data[i+ time_step,0])\n",
        "x_train,y_train = np.array(x_train),np.array(y_train)"
      ],
      "metadata": {
        "id": "-Q3LgEv7Gt3Y"
      },
      "execution_count": 33,
      "outputs": []
    },
    {
      "cell_type": "code",
      "source": [
        "x_test,y_test = [],[]\n",
        "for i in range(len(test_data)-time_step-1):\n",
        "    b = test_data[i:(i+time_step),0]\n",
        "    x_test.append(b)\n",
        "    y_test.append(test_data[i+time_step,0])\n",
        "x_test,y_test = np.array(x_test),np.array(y_test)"
      ],
      "metadata": {
        "id": "AM950wY0Gt7I"
      },
      "execution_count": 34,
      "outputs": []
    },
    {
      "cell_type": "code",
      "source": [
        "print(\"X_train shape :\", x_train.shape)\n",
        "print(\"Y_train shape :\", y_train.shape)\n",
        "print(\"X_test shape  :\", x_test.shape)\n",
        "print(\"Y_test shape  :\", y_test.shape)"
      ],
      "metadata": {
        "colab": {
          "base_uri": "https://localhost:8080/"
        },
        "id": "cDITTBiA9RU6",
        "outputId": "1aab23ef-7bb2-4c30-c8c1-5dda4365451f"
      },
      "execution_count": 35,
      "outputs": [
        {
          "output_type": "stream",
          "name": "stdout",
          "text": [
            "X_train shape : (1527, 100)\n",
            "Y_train shape : (1527,)\n",
            "X_test shape  : (306, 100)\n",
            "Y_test shape  : (306,)\n"
          ]
        }
      ]
    },
    {
      "cell_type": "code",
      "source": [
        "x_train = x_train.reshape(x_train.shape[0],x_train.shape[1],1)\n",
        "x_test  = x_test.reshape(x_test.shape[0],x_test.shape[1],1)"
      ],
      "metadata": {
        "id": "Wy8Fx6CX9RXR"
      },
      "execution_count": 36,
      "outputs": []
    },
    {
      "cell_type": "code",
      "source": [
        "print(\"X_train shape :\", x_train.shape)\n",
        "print(\"Y_train shape :\", y_train.shape)\n",
        "print(\"X_test shape  :\", x_test.shape)\n",
        "print(\"Y_test shape  :\", y_test.shape)"
      ],
      "metadata": {
        "colab": {
          "base_uri": "https://localhost:8080/"
        },
        "id": "ejq5RQg09RZY",
        "outputId": "1d374dfe-a0ac-4e62-fece-0da02d5d871b"
      },
      "execution_count": 37,
      "outputs": [
        {
          "output_type": "stream",
          "name": "stdout",
          "text": [
            "X_train shape : (1527, 100, 1)\n",
            "Y_train shape : (1527,)\n",
            "X_test shape  : (306, 100, 1)\n",
            "Y_test shape  : (306,)\n"
          ]
        }
      ]
    },
    {
      "cell_type": "code",
      "source": [
        "from tensorflow.keras.models import Sequential\n",
        "from tensorflow.keras.layers import LSTM, Dense,Dropout\n",
        "from sklearn.metrics import mean_squared_error"
      ],
      "metadata": {
        "id": "sdBWJPe3MVSw"
      },
      "execution_count": 38,
      "outputs": []
    },
    {
      "cell_type": "code",
      "source": [
        "#Building the model\n",
        "model = Sequential()\n",
        "#Adding layers\n",
        "model.add(LSTM(units=50, return_sequences=True,input_shape=(x_train.shape[1],x_train.shape[2])))\n",
        "model.add(Dropout(0.2))\n",
        "\n",
        "model.add(LSTM(units=50, return_sequences=True))\n",
        "model.add(Dropout(0.2))\n",
        "\n",
        "model.add(LSTM(units=50, return_sequences=True))\n",
        "model.add(Dropout(0.2))\n",
        "\n",
        "model.add(LSTM(units=50))\n",
        "model.add(Dropout(0.2))"
      ],
      "metadata": {
        "id": "gue7ox-ZMVUi"
      },
      "execution_count": 39,
      "outputs": []
    },
    {
      "cell_type": "code",
      "source": [
        "model.add(Dense(units=1))"
      ],
      "metadata": {
        "id": "jNavCw8oMVXs"
      },
      "execution_count": 40,
      "outputs": []
    },
    {
      "cell_type": "code",
      "source": [
        "model.compile(optimizer='adam', loss='mean_squared_error')\n",
        "model.summary()"
      ],
      "metadata": {
        "colab": {
          "base_uri": "https://localhost:8080/"
        },
        "id": "kXoI9_4rMVak",
        "outputId": "049a3111-1201-4044-acb0-c6fccac7be49"
      },
      "execution_count": 41,
      "outputs": [
        {
          "output_type": "stream",
          "name": "stdout",
          "text": [
            "Model: \"sequential\"\n",
            "_________________________________________________________________\n",
            " Layer (type)                Output Shape              Param #   \n",
            "=================================================================\n",
            " lstm (LSTM)                 (None, 100, 50)           10400     \n",
            "                                                                 \n",
            " dropout (Dropout)           (None, 100, 50)           0         \n",
            "                                                                 \n",
            " lstm_1 (LSTM)               (None, 100, 50)           20200     \n",
            "                                                                 \n",
            " dropout_1 (Dropout)         (None, 100, 50)           0         \n",
            "                                                                 \n",
            " lstm_2 (LSTM)               (None, 100, 50)           20200     \n",
            "                                                                 \n",
            " dropout_2 (Dropout)         (None, 100, 50)           0         \n",
            "                                                                 \n",
            " lstm_3 (LSTM)               (None, 50)                20200     \n",
            "                                                                 \n",
            " dropout_3 (Dropout)         (None, 50)                0         \n",
            "                                                                 \n",
            " dense (Dense)               (None, 1)                 51        \n",
            "                                                                 \n",
            "=================================================================\n",
            "Total params: 71,051\n",
            "Trainable params: 71,051\n",
            "Non-trainable params: 0\n",
            "_________________________________________________________________\n"
          ]
        }
      ]
    },
    {
      "cell_type": "code",
      "source": [
        "model.fit(x=x_train,  y=y_train, batch_size=32, epochs=90,   validation_data=(x_test,y_test), verbose=1)"
      ],
      "metadata": {
        "colab": {
          "base_uri": "https://localhost:8080/"
        },
        "id": "Q8NzYpbBMVcA",
        "outputId": "f332e3b3-bd53-4adc-ee81-43a62862e7cc"
      },
      "execution_count": 42,
      "outputs": [
        {
          "output_type": "stream",
          "name": "stdout",
          "text": [
            "Epoch 1/90\n",
            "48/48 [==============================] - 15s 56ms/step - loss: 0.0060 - val_loss: 0.0067\n",
            "Epoch 2/90\n",
            "48/48 [==============================] - 1s 25ms/step - loss: 0.0017 - val_loss: 0.0115\n",
            "Epoch 3/90\n",
            "48/48 [==============================] - 1s 18ms/step - loss: 0.0014 - val_loss: 0.0075\n",
            "Epoch 4/90\n",
            "48/48 [==============================] - 1s 18ms/step - loss: 0.0015 - val_loss: 0.0326\n",
            "Epoch 5/90\n",
            "48/48 [==============================] - 1s 18ms/step - loss: 0.0018 - val_loss: 0.0202\n",
            "Epoch 6/90\n",
            "48/48 [==============================] - 1s 18ms/step - loss: 0.0013 - val_loss: 0.0209\n",
            "Epoch 7/90\n",
            "48/48 [==============================] - 1s 19ms/step - loss: 0.0010 - val_loss: 0.0149\n",
            "Epoch 8/90\n",
            "48/48 [==============================] - 1s 18ms/step - loss: 0.0011 - val_loss: 0.0174\n",
            "Epoch 9/90\n",
            "48/48 [==============================] - 1s 19ms/step - loss: 9.7151e-04 - val_loss: 0.0230\n",
            "Epoch 10/90\n",
            "48/48 [==============================] - 1s 18ms/step - loss: 9.4550e-04 - val_loss: 0.0163\n",
            "Epoch 11/90\n",
            "48/48 [==============================] - 1s 18ms/step - loss: 8.8406e-04 - val_loss: 0.0163\n",
            "Epoch 12/90\n",
            "48/48 [==============================] - 1s 18ms/step - loss: 8.6992e-04 - val_loss: 0.0125\n",
            "Epoch 13/90\n",
            "48/48 [==============================] - 1s 18ms/step - loss: 8.5912e-04 - val_loss: 0.0183\n",
            "Epoch 14/90\n",
            "48/48 [==============================] - 1s 24ms/step - loss: 7.9411e-04 - val_loss: 0.0123\n",
            "Epoch 15/90\n",
            "48/48 [==============================] - 1s 25ms/step - loss: 7.7462e-04 - val_loss: 0.0155\n",
            "Epoch 16/90\n",
            "48/48 [==============================] - 1s 21ms/step - loss: 7.7448e-04 - val_loss: 0.0101\n",
            "Epoch 17/90\n",
            "48/48 [==============================] - 1s 19ms/step - loss: 7.5036e-04 - val_loss: 0.0078\n",
            "Epoch 18/90\n",
            "48/48 [==============================] - 1s 19ms/step - loss: 7.5284e-04 - val_loss: 0.0089\n",
            "Epoch 19/90\n",
            "48/48 [==============================] - 1s 18ms/step - loss: 6.7026e-04 - val_loss: 0.0093\n",
            "Epoch 20/90\n",
            "48/48 [==============================] - 1s 19ms/step - loss: 6.4053e-04 - val_loss: 0.0122\n",
            "Epoch 21/90\n",
            "48/48 [==============================] - 1s 18ms/step - loss: 6.2972e-04 - val_loss: 0.0100\n",
            "Epoch 22/90\n",
            "48/48 [==============================] - 1s 18ms/step - loss: 6.2727e-04 - val_loss: 0.0076\n",
            "Epoch 23/90\n",
            "48/48 [==============================] - 1s 18ms/step - loss: 6.0641e-04 - val_loss: 0.0079\n",
            "Epoch 24/90\n",
            "48/48 [==============================] - 1s 24ms/step - loss: 5.6261e-04 - val_loss: 0.0060\n",
            "Epoch 25/90\n",
            "48/48 [==============================] - 1s 24ms/step - loss: 6.2721e-04 - val_loss: 0.0090\n",
            "Epoch 26/90\n",
            "48/48 [==============================] - 1s 21ms/step - loss: 5.0546e-04 - val_loss: 0.0054\n",
            "Epoch 27/90\n",
            "48/48 [==============================] - 1s 27ms/step - loss: 5.2763e-04 - val_loss: 0.0045\n",
            "Epoch 28/90\n",
            "48/48 [==============================] - 1s 23ms/step - loss: 5.0972e-04 - val_loss: 0.0086\n",
            "Epoch 29/90\n",
            "48/48 [==============================] - 1s 18ms/step - loss: 4.8369e-04 - val_loss: 0.0061\n",
            "Epoch 30/90\n",
            "48/48 [==============================] - 1s 20ms/step - loss: 4.9083e-04 - val_loss: 0.0079\n",
            "Epoch 31/90\n",
            "48/48 [==============================] - 1s 18ms/step - loss: 4.7079e-04 - val_loss: 0.0104\n",
            "Epoch 32/90\n",
            "48/48 [==============================] - 1s 18ms/step - loss: 4.3938e-04 - val_loss: 0.0046\n",
            "Epoch 33/90\n",
            "48/48 [==============================] - 1s 20ms/step - loss: 4.5857e-04 - val_loss: 0.0039\n",
            "Epoch 34/90\n",
            "48/48 [==============================] - 1s 19ms/step - loss: 4.4168e-04 - val_loss: 0.0040\n",
            "Epoch 35/90\n",
            "48/48 [==============================] - 1s 19ms/step - loss: 4.3007e-04 - val_loss: 0.0033\n",
            "Epoch 36/90\n",
            "48/48 [==============================] - 1s 18ms/step - loss: 4.1558e-04 - val_loss: 0.0050\n",
            "Epoch 37/90\n",
            "48/48 [==============================] - 1s 18ms/step - loss: 4.2290e-04 - val_loss: 0.0027\n",
            "Epoch 38/90\n",
            "48/48 [==============================] - 1s 18ms/step - loss: 4.1334e-04 - val_loss: 0.0038\n",
            "Epoch 39/90\n",
            "48/48 [==============================] - 1s 20ms/step - loss: 4.1137e-04 - val_loss: 0.0029\n",
            "Epoch 40/90\n",
            "48/48 [==============================] - 1s 26ms/step - loss: 3.7318e-04 - val_loss: 0.0048\n",
            "Epoch 41/90\n",
            "48/48 [==============================] - 1s 24ms/step - loss: 3.7895e-04 - val_loss: 0.0027\n",
            "Epoch 42/90\n",
            "48/48 [==============================] - 1s 18ms/step - loss: 3.4736e-04 - val_loss: 0.0038\n",
            "Epoch 43/90\n",
            "48/48 [==============================] - 1s 18ms/step - loss: 3.8098e-04 - val_loss: 0.0030\n",
            "Epoch 44/90\n",
            "48/48 [==============================] - 1s 18ms/step - loss: 3.2457e-04 - val_loss: 0.0046\n",
            "Epoch 45/90\n",
            "48/48 [==============================] - 1s 18ms/step - loss: 3.1712e-04 - val_loss: 0.0032\n",
            "Epoch 46/90\n",
            "48/48 [==============================] - 1s 20ms/step - loss: 3.5665e-04 - val_loss: 0.0031\n",
            "Epoch 47/90\n",
            "48/48 [==============================] - 1s 18ms/step - loss: 3.2772e-04 - val_loss: 0.0037\n",
            "Epoch 48/90\n",
            "48/48 [==============================] - 1s 18ms/step - loss: 3.0920e-04 - val_loss: 0.0036\n",
            "Epoch 49/90\n",
            "48/48 [==============================] - 1s 18ms/step - loss: 3.2576e-04 - val_loss: 0.0022\n",
            "Epoch 50/90\n",
            "48/48 [==============================] - 1s 18ms/step - loss: 3.3564e-04 - val_loss: 9.0400e-04\n",
            "Epoch 51/90\n",
            "48/48 [==============================] - 1s 19ms/step - loss: 3.1974e-04 - val_loss: 0.0012\n",
            "Epoch 52/90\n",
            "48/48 [==============================] - 1s 19ms/step - loss: 3.1095e-04 - val_loss: 0.0013\n",
            "Epoch 53/90\n",
            "48/48 [==============================] - 1s 26ms/step - loss: 2.8266e-04 - val_loss: 0.0010\n",
            "Epoch 54/90\n",
            "48/48 [==============================] - 1s 25ms/step - loss: 2.9760e-04 - val_loss: 8.3020e-04\n",
            "Epoch 55/90\n",
            "48/48 [==============================] - 1s 19ms/step - loss: 3.0330e-04 - val_loss: 0.0018\n",
            "Epoch 56/90\n",
            "48/48 [==============================] - 1s 20ms/step - loss: 2.9575e-04 - val_loss: 0.0035\n",
            "Epoch 57/90\n",
            "48/48 [==============================] - 1s 18ms/step - loss: 2.6558e-04 - val_loss: 0.0033\n",
            "Epoch 58/90\n",
            "48/48 [==============================] - 1s 18ms/step - loss: 2.9816e-04 - val_loss: 0.0021\n",
            "Epoch 59/90\n",
            "48/48 [==============================] - 1s 18ms/step - loss: 2.7761e-04 - val_loss: 0.0032\n",
            "Epoch 60/90\n",
            "48/48 [==============================] - 1s 18ms/step - loss: 2.6941e-04 - val_loss: 0.0029\n",
            "Epoch 61/90\n",
            "48/48 [==============================] - 1s 19ms/step - loss: 2.9103e-04 - val_loss: 0.0053\n",
            "Epoch 62/90\n",
            "48/48 [==============================] - 1s 18ms/step - loss: 2.6931e-04 - val_loss: 7.5658e-04\n",
            "Epoch 63/90\n",
            "48/48 [==============================] - 1s 19ms/step - loss: 2.6443e-04 - val_loss: 0.0020\n",
            "Epoch 64/90\n",
            "48/48 [==============================] - 1s 19ms/step - loss: 2.6061e-04 - val_loss: 0.0027\n",
            "Epoch 65/90\n",
            "48/48 [==============================] - 1s 20ms/step - loss: 2.7769e-04 - val_loss: 0.0023\n",
            "Epoch 66/90\n",
            "48/48 [==============================] - 1s 25ms/step - loss: 2.7005e-04 - val_loss: 0.0029\n",
            "Epoch 67/90\n",
            "48/48 [==============================] - 1s 24ms/step - loss: 2.4030e-04 - val_loss: 6.6449e-04\n",
            "Epoch 68/90\n",
            "48/48 [==============================] - 1s 19ms/step - loss: 2.4931e-04 - val_loss: 0.0018\n",
            "Epoch 69/90\n",
            "48/48 [==============================] - 1s 18ms/step - loss: 2.8289e-04 - val_loss: 0.0033\n",
            "Epoch 70/90\n",
            "48/48 [==============================] - 1s 18ms/step - loss: 2.6319e-04 - val_loss: 0.0038\n",
            "Epoch 71/90\n",
            "48/48 [==============================] - 1s 20ms/step - loss: 2.5846e-04 - val_loss: 0.0032\n",
            "Epoch 72/90\n",
            "48/48 [==============================] - 1s 18ms/step - loss: 2.5560e-04 - val_loss: 0.0042\n",
            "Epoch 73/90\n",
            "48/48 [==============================] - 1s 19ms/step - loss: 2.7570e-04 - val_loss: 0.0012\n",
            "Epoch 74/90\n",
            "48/48 [==============================] - 1s 18ms/step - loss: 2.3948e-04 - val_loss: 0.0010\n",
            "Epoch 75/90\n",
            "48/48 [==============================] - 1s 19ms/step - loss: 2.9229e-04 - val_loss: 0.0024\n",
            "Epoch 76/90\n",
            "48/48 [==============================] - 1s 18ms/step - loss: 2.4785e-04 - val_loss: 9.3452e-04\n",
            "Epoch 77/90\n",
            "48/48 [==============================] - 1s 18ms/step - loss: 2.4856e-04 - val_loss: 0.0037\n",
            "Epoch 78/90\n",
            "48/48 [==============================] - 1s 20ms/step - loss: 2.8300e-04 - val_loss: 0.0017\n",
            "Epoch 79/90\n",
            "48/48 [==============================] - 1s 25ms/step - loss: 2.8421e-04 - val_loss: 0.0028\n",
            "Epoch 80/90\n",
            "48/48 [==============================] - 1s 24ms/step - loss: 2.3890e-04 - val_loss: 6.7623e-04\n",
            "Epoch 81/90\n",
            "48/48 [==============================] - 1s 18ms/step - loss: 2.3908e-04 - val_loss: 0.0014\n",
            "Epoch 82/90\n",
            "48/48 [==============================] - 1s 18ms/step - loss: 2.5070e-04 - val_loss: 0.0018\n",
            "Epoch 83/90\n",
            "48/48 [==============================] - 1s 20ms/step - loss: 2.3414e-04 - val_loss: 0.0013\n",
            "Epoch 84/90\n",
            "48/48 [==============================] - 1s 19ms/step - loss: 2.2390e-04 - val_loss: 0.0010\n",
            "Epoch 85/90\n",
            "48/48 [==============================] - 1s 18ms/step - loss: 2.5688e-04 - val_loss: 0.0013\n",
            "Epoch 86/90\n",
            "48/48 [==============================] - 1s 18ms/step - loss: 2.3460e-04 - val_loss: 0.0018\n",
            "Epoch 87/90\n",
            "48/48 [==============================] - 1s 20ms/step - loss: 2.4023e-04 - val_loss: 0.0025\n",
            "Epoch 88/90\n",
            "48/48 [==============================] - 1s 18ms/step - loss: 2.4970e-04 - val_loss: 0.0015\n",
            "Epoch 89/90\n",
            "48/48 [==============================] - 1s 19ms/step - loss: 2.3656e-04 - val_loss: 0.0017\n",
            "Epoch 90/90\n",
            "48/48 [==============================] - 1s 19ms/step - loss: 2.1777e-04 - val_loss: 0.0030\n"
          ]
        },
        {
          "output_type": "execute_result",
          "data": {
            "text/plain": [
              "<keras.callbacks.History at 0x7f990831d1f0>"
            ]
          },
          "metadata": {},
          "execution_count": 42
        }
      ]
    },
    {
      "cell_type": "code",
      "source": [
        "#PREDICTION\n",
        "\n",
        "train_pred = model.predict(x_train)\n",
        "test_pred = model.predict(x_test)"
      ],
      "metadata": {
        "colab": {
          "base_uri": "https://localhost:8080/"
        },
        "id": "N51xYiCrMVd6",
        "outputId": "61b3d3a3-595c-4974-ebaf-c1fb0e5619b4"
      },
      "execution_count": 43,
      "outputs": [
        {
          "output_type": "stream",
          "name": "stdout",
          "text": [
            "48/48 [==============================] - 2s 9ms/step\n",
            "10/10 [==============================] - 0s 8ms/step\n"
          ]
        }
      ]
    },
    {
      "cell_type": "code",
      "source": [
        "#Reversing the MinMax Scaler\n",
        "\n",
        "train_pred = scale.inverse_transform(train_pred)\n",
        "test_pred = scale.inverse_transform(test_pred)"
      ],
      "metadata": {
        "id": "PJzaVO6JMVf8"
      },
      "execution_count": 45,
      "outputs": []
    },
    {
      "cell_type": "code",
      "source": [
        "#EVALUATION\n",
        "from math import sqrt\n",
        "mse_train = sqrt(mean_squared_error(y_train,train_pred))\n",
        "mse_train"
      ],
      "metadata": {
        "colab": {
          "base_uri": "https://localhost:8080/"
        },
        "id": "XV4yEpmpMVjr",
        "outputId": "a972ad36-47b2-4b56-8b13-4d8578a03dfa"
      },
      "execution_count": 47,
      "outputs": [
        {
          "output_type": "execute_result",
          "data": {
            "text/plain": [
              "133.30894807142022"
            ]
          },
          "metadata": {},
          "execution_count": 47
        }
      ]
    },
    {
      "cell_type": "code",
      "source": [
        "mse_test = sqrt(mean_squared_error(y_test, test_pred))\n",
        "mse_test"
      ],
      "metadata": {
        "colab": {
          "base_uri": "https://localhost:8080/"
        },
        "id": "RsPgUprr9RcF",
        "outputId": "3b3bae38-fdb7-4daa-81ce-25dcb5422a40"
      },
      "execution_count": 48,
      "outputs": [
        {
          "output_type": "execute_result",
          "data": {
            "text/plain": [
              "238.9021559910182"
            ]
          },
          "metadata": {},
          "execution_count": 48
        }
      ]
    },
    {
      "cell_type": "code",
      "source": [
        "#Visualizing the predictions\n",
        "lookback = 100\n",
        "train_pred_plot = np.empty_like(data)\n",
        "train_pred_plot[:,:] = np.nan\n",
        "train_pred_plot[lookback: len(train_pred)+lookback, :] = train_pred\n",
        "\n",
        "test_pred_plot = np.empty_like(data)\n",
        "test_pred_plot[:,:] = np.nan\n",
        "test_pred_plot[len(train_pred)+(lookback*2)+1: len(data)-1, : ] = test_pred\n",
        "\n",
        "plt.plot(scale.inverse_transform(data),label='baseline')\n",
        "plt.plot(train_pred_plot,label='train_predictions')\n",
        "plt.plot(test_pred_plot,label= 'test_predictions')\n",
        "plt.legend()\n",
        "plt.show()"
      ],
      "metadata": {
        "colab": {
          "base_uri": "https://localhost:8080/",
          "height": 265
        },
        "id": "FGuIYiYyTJOj",
        "outputId": "7df56097-3453-4bb3-e6cd-2ba759772269"
      },
      "execution_count": 56,
      "outputs": [
        {
          "output_type": "display_data",
          "data": {
            "text/plain": [
              "<Figure size 432x288 with 1 Axes>"
            ],
            "image/png": "[encoded data removed]"
          },
          "metadata": {
            "needs_background": "light"
          }
        }
      ]
    },
    {
      "cell_type": "code",
      "source": [
        "x_input = test_data[307:].reshape(1,-1)\n",
        "x_input.shape"
      ],
      "metadata": {
        "colab": {
          "base_uri": "https://localhost:8080/"
        },
        "id": "51zCZbm-TJSF",
        "outputId": "6a333058-1e86-40f9-fd84-6c4174faeaa2"
      },
      "execution_count": 57,
      "outputs": [
        {
          "output_type": "execute_result",
          "data": {
            "text/plain": [
              "(1, 100)"
            ]
          },
          "metadata": {},
          "execution_count": 57
        }
      ]
    },
    {
      "cell_type": "code",
      "source": [
        "temp_input=list(x_input)\n",
        "temp_input=temp_input[0].tolist()\n",
        "temp_input"
      ],
      "metadata": {
        "colab": {
          "base_uri": "https://localhost:8080/"
        },
        "id": "1WyFgzYKTJU7",
        "outputId": "6e7131f0-8e64-4ada-bbb2-a45db56a2615"
      },
      "execution_count": 60,
      "outputs": [
        {
          "output_type": "execute_result",
          "data": {
            "text/plain": [
              "[0.8527369281045751,\n",
              " 0.8621323529411764,\n",
              " 0.8345588235294117,\n",
              " 0.84375,\n",
              " 0.7146650326797386,\n",
              " 0.6605392156862745,\n",
              " 0.6542075163398693,\n",
              " 0.6803513071895424,\n",
              " 0.6689133986928104,\n",
              " 0.6642156862745099,\n",
              " 0.678921568627451,\n",
              " 0.6913807189542482,\n",
              " 0.7089460784313726,\n",
              " 0.7226307189542485,\n",
              " 0.7340686274509802,\n",
              " 0.7212009803921569,\n",
              " 0.749795751633987,\n",
              " 0.7689950980392157,\n",
              " 0.7446895424836601,\n",
              " 0.7120098039215685,\n",
              " 0.7467320261437909,\n",
              " 0.7549019607843137,\n",
              " 0.7604166666666667,\n",
              " 0.7598039215686274,\n",
              " 0.7465277777777777,\n",
              " 0.7624591503267975,\n",
              " 0.7706290849673203,\n",
              " 0.8041258169934642,\n",
              " 0.7810457516339868,\n",
              " 0.7941176470588236,\n",
              " 0.7602124183006536,\n",
              " 0.7348856209150327,\n",
              " 0.7240604575163399,\n",
              " 0.7399918300653596,\n",
              " 0.749795751633987,\n",
              " 0.7614379084967322,\n",
              " 0.7542892156862746,\n",
              " 0.7475490196078431,\n",
              " 0.769607843137255,\n",
              " 0.7495915032679739,\n",
              " 0.8171977124183007,\n",
              " 0.8020833333333335,\n",
              " 0.7773692810457518,\n",
              " 0.7571486928104576,\n",
              " 0.7937091503267975,\n",
              " 0.7916666666666667,\n",
              " 0.7714460784313726,\n",
              " 0.7526552287581698,\n",
              " 0.7269199346405228,\n",
              " 0.6629901960784313,\n",
              " 0.6819852941176472,\n",
              " 0.6441993464052288,\n",
              " 0.6215277777777778,\n",
              " 0.6439950980392156,\n",
              " 0.6631944444444445,\n",
              " 0.6754493464052289,\n",
              " 0.6370506535947713,\n",
              " 0.6460375816993464,\n",
              " 0.6589052287581699,\n",
              " 0.6587009803921569,\n",
              " 0.6779003267973858,\n",
              " 0.6319444444444445,\n",
              " 0.6311274509803921,\n",
              " 0.627859477124183,\n",
              " 0.647671568627451,\n",
              " 0.6399101307189542,\n",
              " 0.6348039215686274,\n",
              " 0.6386846405228759,\n",
              " 0.6233660130718954,\n",
              " 0.627450980392157,\n",
              " 0.6397058823529412,\n",
              " 0.6470588235294118,\n",
              " 0.661968954248366,\n",
              " 0.6707516339869282,\n",
              " 0.6519607843137255,\n",
              " 0.6311274509803921,\n",
              " 0.6129493464052288,\n",
              " 0.6376633986928105,\n",
              " 0.6225490196078431,\n",
              " 0.627450980392157,\n",
              " 0.6333741830065359,\n",
              " 0.6264297385620916,\n",
              " 0.6362336601307189,\n",
              " 0.5831290849673202,\n",
              " 0.5778186274509804,\n",
              " 0.5723039215686275,\n",
              " 0.5800653594771241,\n",
              " 0.5761846405228758,\n",
              " 0.5516748366013072,\n",
              " 0.5788398692810458,\n",
              " 0.625,\n",
              " 0.6358251633986928,\n",
              " 0.6294934640522877,\n",
              " 0.6288807189542484,\n",
              " 0.6276552287581699,\n",
              " 0.6223447712418301,\n",
              " 0.6337826797385621,\n",
              " 0.6262254901960784,\n",
              " 0.622140522875817,\n",
              " 0.6241830065359477]"
            ]
          },
          "metadata": {},
          "execution_count": 60
        }
      ]
    },
    {
      "cell_type": "code",
      "source": [
        "day_new = np.arange(1, 101)\n",
        "day_pred = np.arange(101, 131)\n",
        "plt.plot(day_new, scale.inverse_transform(data[1935 : ]))\n",
        "     "
      ],
      "metadata": {
        "colab": {
          "base_uri": "https://localhost:8080/",
          "height": 283
        },
        "id": "LHmLWhYK9Rf5",
        "outputId": "b6343d93-8f3b-4a3f-8390-3cf5afec9dab"
      },
      "execution_count": 59,
      "outputs": [
        {
          "output_type": "execute_result",
          "data": {
            "text/plain": [
              "[<matplotlib.lines.Line2D at 0x7f990114c520>]"
            ]
          },
          "metadata": {},
          "execution_count": 59
        },
        {
          "output_type": "display_data",
          "data": {
            "text/plain": [
              "<Figure size 432x288 with 1 Axes>"
            ],
            "image/png": "[encoded data removed]"
          },
          "metadata": {
            "needs_background": "light"
          }
        }
      ]
    }
  ]
}